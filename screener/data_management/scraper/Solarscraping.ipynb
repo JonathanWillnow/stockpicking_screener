{
 "cells": [
  {
   "cell_type": "code",
   "execution_count": 5,
   "metadata": {},
   "outputs": [],
   "source": [
    "import time\n",
    "import pandas as pd\n",
    "import numpy as np\n",
    "from multiprocessing.dummy import Pool\n",
    "import time\n",
    "import numpy as np\n",
    "from bs4 import BeautifulSoup\n",
    "from selenium import webdriver\n",
    "from selenium.webdriver.common.by import By\n",
    "from selenium.webdriver.support.ui import WebDriverWait\n",
    "from selenium.webdriver.support import expected_conditions as EC\n",
    "import pandas as pd\n",
    "import random\n",
    "from bs4 import BeautifulSoup\n",
    "import yfinance as yf"
   ]
  },
  {
   "cell_type": "code",
   "execution_count": 17,
   "metadata": {},
   "outputs": [
    {
     "name": "stdout",
     "output_type": "stream",
     "text": [
      "<class 'numpy.float64'>\n"
     ]
    }
   ],
   "source": [
    "ticker_yahoo = yf.Ticker(\"BC8.DE\")\n",
    "data = ticker_yahoo.history()\n",
    "last_quote = data['Close'].iloc[-1]\n",
    "print(type(last_quote))"
   ]
  },
  {
   "cell_type": "code",
   "execution_count": 68,
   "metadata": {},
   "outputs": [
    {
     "name": "stdout",
     "output_type": "stream",
     "text": [
      "Sonnen­einstrahlung\n",
      "                                        schwach stark\n",
      "\n",
      "Photovoltaik-Eignung: Geeignet\n",
      "Solarthermie-Eignung: Gut geeignet\n",
      "Anlage konfigurieren\n",
      "--------------\n",
      "\n",
      "--------------\n",
      "\n",
      "--------------\n"
     ]
    }
   ],
   "source": [
    "# def get_stock_data():\n",
    "\n",
    "browser =  webdriver.Firefox()\n",
    "time.sleep(2)\n",
    "browser.get(\"https://www.solare-stadt.de/juechen/Solarpotenzialkataster\")\n",
    "time.sleep(5)\n",
    "\n",
    "# # find the frame using id, title etc.\n",
    "# frame = browser.find_elements_by_xpath(\"//*[@id='viewer']\")\n",
    "\n",
    "# # switch the webdriver object to the iframe.\n",
    "# browser.switch_to.frame(frame)\n",
    "\n",
    "iframeElement = browser.find_element_by_tag_name('iframe')\n",
    "browser.switch_to.frame(iframeElement)\n",
    "\n",
    "time.sleep(5)\n",
    "browser.find_element_by_css_selector(\"#searchdiv > form > input\").click()\n",
    "time.sleep(1)\n",
    "input = browser.find_element_by_css_selector(\"#searchdiv > form > input\")\n",
    "time.sleep(2)\n",
    "\n",
    "input.send_keys(\"Neusser Straße 100 41363 Jüchen\")\n",
    "time.sleep(2)\n",
    "browser.find_element_by_css_selector(\"#searchA\").click()\n",
    "time.sleep(5)\n",
    "message_ = browser.find_elements_by_class_name(\"hpopup_content\")\n",
    "for mess in message_:\n",
    "    print(mess.text)\n",
    "    print(\"--------------\")\n",
    "# message = message_.text\n",
    "# print(message)\n",
    "\n",
    "comment = browser.find_element_by_xpath(\"//*[@id='popup_building_92880']/div[4]/div/table\")\n",
    "search_result =comment.get_attribute('innerHTML')\n",
    "# except:\n",
    "#     comments = [comment.text for comment in message]\n",
    "#     print(comments)\n",
    "\n",
    "# browser.find_element_by_css_selector(\"#scroll-down-btn\").click()\n",
    "#     time.sleep(2)\n",
    "#     ticker.append(str(WebDriverWait(browser, 25).until(EC.presence_of_element_located((By.CSS_SELECTOR, \"#result-quotes-0 > div.modules_quoteLeftCol__gkCSv.modules_Ell__77DLP.modules_IbBox__2pmLe > div.modules_quoteSymbol__hpPcM.modules_Ell__77DLP.modules_IbBox__2pmLe\"))).text))\n",
    "# except:\n",
    "#     ticker.append(\"not_found\")\n",
    "        \n",
    "    # print(len(ticker))      \n",
    "\n",
    "    # frame = pd.DataFrame.from_dict(\n",
    "    #     {\"name\" : initial_frame.name,\n",
    "    #     \"wkn\" : initial_frame.wkn,\n",
    "    #     \"index\" : \"AMEX\",\n",
    "    #     'de_ticker' : de_ticker,\n",
    "    #     'ticker': ticker,\n",
    "    #     'industry': industry,\n",
    "    #     'ISIN': ISIN\n",
    "    #     })\n",
    "    # time.sleep(1)\n",
    "    # browser.quit()\n",
    "    # return frame"
   ]
  },
  {
   "cell_type": "code",
   "execution_count": 77,
   "metadata": {},
   "outputs": [
    {
     "data": {
      "text/plain": [
       "'\\n\\n   <tbody><tr>\\n     <td colspan=\"2\">\\n      <div class=\"imgpreview_box\">\\n\\n        <div class=\"imgpreview_left\"><img onclick=\"cycle_previmg($(this),-1)\" src=\"https://detailskronos.solare-stadt.de/assets_v06/viewer/icons/slide_left.png\"></div>\\n        <div class=\"imgpreview_main cycle_container\\n            \\n            magnify_available\\n            \\n\\n        \">\\n            <img class=\"cyclable imgpreview\" src=\"https://viewer3.tetraeder.com//juechen/details/92000/radiation_92880_300x200.png\" alt=\"\" title=\"Preview\" style=\"cursor: pointer;\" width=\"75.0px\" height=\"120.0px\">\\n            <img class=\"cyclable imgpreview\" src=\"https://viewer3.tetraeder.com//juechen/details/92000/roofs_92880_300x200.png\" alt=\"\" style=\"display: none; cursor: pointer;\" title=\"Preview\" width=\"75.0px\" height=\"120.0px\">\\n            \\n            <img class=\"cyclable imgpreview\" src=\"https://viewer3.tetraeder.com//juechen/details/92000/wms_92880.png\" alt=\"\" style=\"display: none; cursor: pointer;\" title=\"Preview\" width=\"75.0px\" height=\"120.0px\">\\n            \\n        </div>\\n        <div class=\"imgpreview_right\"><img onclick=\"cycle_previmg($(this),1)\" src=\"https://detailskronos.solare-stadt.de/assets_v06/viewer/icons/slide_right.png\"></div>\\n\\n\\n        <div class=\"detailbild cycle_container\">\\n            <div class=\"legend cyclable\" style=\"width:300px;margin-left:5px;\">\\n\\n                    Sonnen\\xadeinstrahlung\\n                    <table class=\"radtable\" width=\"195px\" cellspacing=\"0\" cellpadding=\"0\" border=\"0\">\\n                      <tbody><tr style=\"line-height:7px;\">\\n                      <td style=\"background-color:rgb(89,63,189);\">&nbsp;</td>\\n                      <td style=\"background-color:rgb(88,88,199);\">&nbsp;</td>\\n                      <td style=\"background-color:rgb(87,107,210);\">&nbsp;</td>\\n                      <td style=\"background-color:rgb(88,141,220);\">&nbsp;</td>\\n                      <td style=\"background-color:rgb(97,181,221);\">&nbsp;</td>\\n                      <td style=\"background-color:rgb(105,204,208);\">&nbsp;</td>\\n                      <td style=\"background-color:rgb(133,223,173);\">&nbsp;</td>\\n                      <td style=\"background-color:rgb(174,224,138);\">&nbsp;</td>\\n                      <td style=\"background-color:rgb(203,223,112);\">&nbsp;</td>\\n                      <td style=\"background-color:rgb(232,220,89);\">&nbsp;</td>\\n                      <td style=\"background-color:rgb(242,207,71);\">&nbsp;</td>\\n                      <td style=\"background-color:rgb(234,182,60);\">&nbsp;</td>\\n                      <td style=\"background-color:rgb(226,162,51);\">&nbsp;</td>\\n                      <td style=\"background-color:rgb(217,141,45);\">&nbsp;</td>\\n                      <td style=\"background-color:rgb(209,121,40);\">&nbsp;</td>\\n                      <td style=\"background-color:rgb(201,108,37);\">&nbsp;</td>\\n                      <td style=\"background-color:rgb(193,95,33);\">&nbsp;</td>\\n                      <td style=\"background-color:rgb(185,82,30);\">&nbsp;</td>\\n                      <td style=\"background-color:rgb(169,62,25);\">&nbsp;</td>\\n                      <td style=\"background-color:rgb(154,42,20);\">&nbsp;</td>\\n                      </tr>\\n                     </tbody></table>\\n                    <table width=\"195px\" cellspacing=\"0\" cellpadding=\"0\" border=\"0\">\\n                    <tbody><tr>\\n                    <td style=\"text-align:left;\">schwach</td>\\n                    <td style=\"text-align:center;\"></td>\\n                    <td style=\"text-align:right;\">stark</td>\\n                    </tr>\\n                    </tbody></table>\\n            </div>\\n\\n            <div class=\"legend cyclable\" style=\"width:200px;margin-left:5px;display:none;\">\\n                Dacheignung<br>\\n                <table>\\n                    <tbody><tr>\\n                    <td><div class=\"b2\" style=\"background-color:#002640;width:16px;height:16px;border:1px solid #444;\"></div></td>\\n                    <td valign=\"top\">\\n                        <span>\\n                        Hohe Einstrahlung\\n                        </span>\\n                    </td>\\n                    <td></td>\\n                    <td><div class=\"b1\" style=\"background-color:#C4D4FF;width:16px;height:16px;border:1px solid #444;\"></div></td>\\n                    <td valign=\"top\">\\n                        <span>\\n                        Niedrige Einstrahlung\\n                        </span>\\n                    </td>\\n                    </tr>\\n                 </tbody></table>\\n            </div>\\n            \\n                <div class=\"legend cyclable\" style=\"width:200px;margin-left:5px;display:none\">\\n                        <!-- Luftbild -->\\n                </div>\\n            \\n        <!--               legend end           -->\\n        </div>\\n\\n        <div class=\"imgpreview_end\"></div>\\n\\n\\n       </div>\\n     </td>\\n    </tr>\\n\\n    <tr>\\n        <th>Photovoltaik-Eignung:\\n        </th>\\n        <td class=\"magnified cbedingt\">Geeignet</td>\\n    </tr>\\n    <tr>\\n        <th>Solarthermie-Eignung:\\n        </th>\\n        <td class=\"magnified cgut\">Gut geeignet</td>\\n    </tr>\\n     \\n     \\n\\n<!--     <tr>\\n        <th>Geeignete Fläche</th>\\n        <td class=\"magnified\">\\n               272\\n                <span class=\"unit\">\\n                m²\\n            </span>\\n\\n        </td>\\n    </tr> -->\\n<!--     <tr>\\n        <th>Vorgeschlagene Anlagengröße (PV)</th>\\n        <td class=\"magnified\">\\n            5,7\\n            <span class=\"unit\">\\n                kWp\\n                (31\\n                m²)\\n            </span>\\n        </td>\\n    </tr> -->\\n<!--      <tr>\\n        <th>Erwartete Einnahmen (20 Jahre)</th>\\n        <td class=\"magnified\">\\n            8.300\\n            <span class=\"unit\">\\n                Euro\\n            </span>\\n        </td>\\n    </tr> -->\\n\\n<!--     \\n    <tr>\\n        <th>Rendite</th>\\n        <td class=\"magnified\">\\n            3,3\\n            <span class=\"unit\">\\n                %\\n            </span>\\n        </td>\\n    </tr>\\n     -->\\n</tbody>'"
      ]
     },
     "execution_count": 77,
     "metadata": {},
     "output_type": "execute_result"
    }
   ],
   "source": [
    "search_result"
   ]
  },
  {
   "cell_type": "code",
   "execution_count": 81,
   "metadata": {},
   "outputs": [],
   "source": [
    "search_result\n",
    "s1 = search_result[search_result.find('<th>Photovoltaik-Eignung:\\n'):search_result.find('Solarthermie-Eignung:')]\n",
    "s2 = search_result[search_result.find('Vorgeschlagene Anlagengröße'):search_result.find('kWp')]\n",
    "\n",
    "\n"
   ]
  },
  {
   "cell_type": "code",
   "execution_count": 82,
   "metadata": {},
   "outputs": [
    {
     "data": {
      "text/plain": [
       "'Vorgeschlagene Anlagengröße (PV)</th>\\n        <td class=\"magnified\">\\n            5,7\\n            <span class=\"unit\">\\n                '"
      ]
     },
     "execution_count": 82,
     "metadata": {},
     "output_type": "execute_result"
    }
   ],
   "source": [
    "s2"
   ]
  },
  {
   "cell_type": "code",
   "execution_count": null,
   "metadata": {},
   "outputs": [],
   "source": []
  }
 ],
 "metadata": {
  "interpreter": {
   "hash": "b2095170c552f07472b03ddd5c30c16d5a254b0904a57a35a5cf5a120b4ffeb3"
  },
  "kernelspec": {
   "display_name": "Python 3.9.7 64-bit",
   "language": "python",
   "name": "python3"
  },
  "language_info": {
   "codemirror_mode": {
    "name": "ipython",
    "version": 3
   },
   "file_extension": ".py",
   "mimetype": "text/x-python",
   "name": "python",
   "nbconvert_exporter": "python",
   "pygments_lexer": "ipython3",
   "version": "3.9.7"
  },
  "orig_nbformat": 4
 },
 "nbformat": 4,
 "nbformat_minor": 2
}
